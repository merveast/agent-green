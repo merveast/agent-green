{
 "cells": [
  {
   "cell_type": "code",
   "execution_count": null,
   "id": "32a91f47",
   "metadata": {},
   "outputs": [],
   "source": [
    "import os\n",
    "import time\n",
    "import config\n",
    "from datetime import datetime\n",
    "from log_utils import read_log_messages, normalize_template, normalize_template_v1, normalize_template_v2, save_templates\n",
    "from debt_utils import get_code_snippets, get_td_ground_truth, save_td_labels, normalize_td_label\n",
    "from ollama_utils import start_ollama_server, stop_ollama_server, start_ollama_server_log\n",
    "from agent_utils import create_agent, save_agent_responses\n",
    "from codecarbon import EmissionsTracker, OfflineEmissionsTracker\n",
    "from evaluation import evaluate_and_save_parsing, evaluate_and_save_td"
   ]
  },
  {
   "cell_type": "code",
   "execution_count": null,
   "id": "1f19fb53",
   "metadata": {},
   "outputs": [],
   "source": [
    "# --- Configuration ---\n",
    "llm_config = config.LLM_CONFIG\n",
    "\n",
    "DATA_DIR = config.DATA_DIR\n",
    "RESULT_DIR = config.RESULT_DIR\n",
    "os.makedirs(RESULT_DIR, exist_ok=True)\n",
    " \n",
    "TASK = (config.TASK).capitalize()\n",
    "DESIGN = (config.DESIGN).capitalize()\n",
    "project_name = f\"{TASK}_{DESIGN}\"\n",
    "model = llm_config[\"config_list\"][0][\"model\"].replace(\":\", \"-\")\n",
    "timestamp = datetime.now().strftime(\"%Y%m%d-%H%M%S\")\n",
    "exp_name = f\"{project_name}_{model}_{timestamp}\"\n",
    "\n",
    "input_file = config.IN_FILE\n",
    "input_file_path = os.path.join(DATA_DIR, input_file)\n",
    "ground_truth_file = config.GT_FILE\n",
    "ground_truth_file_path = os.path.join(DATA_DIR, ground_truth_file)\n",
    "\n"
   ]
  },
  {
   "cell_type": "markdown",
   "id": "63962b4e",
   "metadata": {},
   "source": [
    "TD Detection"
   ]
  },
  {
   "cell_type": "code",
   "execution_count": null,
   "id": "c4b0642d",
   "metadata": {},
   "outputs": [],
   "source": [
    "# --- Task-specific configuration for TD detection ---\n",
    "task_prompt = config.TASK_PROMPT_TD_DETECTION\n",
    "sys_prompt_generator = config.SYS_MSG_TD_DETECTION_GENERATOR_FEW_SHOT\n",
    "\n",
    "# --- Read Input Data ---\n",
    "code_snippets = get_code_snippets(input_file_path)\n"
   ]
  },
  {
   "cell_type": "code",
   "execution_count": null,
   "id": "81a0b77c",
   "metadata": {},
   "outputs": [],
   "source": [
    "# --- With CodeCarbon Emissions Tracking for Technical Debt Detection Task---\n",
    "def run_inference_with_emissions_td_detection(code_snippets, llm_config, sys_prompt, task_prompt, exp_name, result_dir):\n",
    "    td_results = []\n",
    "    tracker = OfflineEmissionsTracker(project_name=exp_name, output_dir=result_dir, country_iso_code=\"CAN\", save_to_file=True)\n",
    "    tracker.start()\n",
    "    try:\n",
    "        td_detector_gen = create_agent(\n",
    "            agent_type=\"assistant\",\n",
    "            name=\"td_detection_generator_agent\",\n",
    "            llm_config=llm_config,\n",
    "            sys_prompt=sys_prompt,\n",
    "            description=\"Analyze the code snippet in order to determine whether it contains a code smell.\"\n",
    "        )\n",
    "        for i, code_snippet in enumerate(code_snippets):\n",
    "            content = task_prompt + code_snippet\n",
    "            #print(f\"Processing code_snippet {i+1}/{len(code_snippets)}\")\n",
    "            res = td_detector_gen.generate_reply(messages=[{\"content\": content, \"role\": \"user\"}])\n",
    "            if res is not None and \"content\" in res:\n",
    "                td_results.append(res[\"content\"].strip())\n",
    "                #print(f\"[Info] Processed code_snippet {i}: {res['content'].strip()}\")\n",
    "            else:\n",
    "                td_results.append(\"NONE\")\n",
    "                print(f\"[Warning] Skipped code_snippet {i} — no response or invalid format.\")\n",
    "    finally:\n",
    "        emissions = tracker.stop()\n",
    "    print(f\"Emissions: {emissions} kg CO2\")\n",
    "    return td_results\n"
   ]
  },
  {
   "cell_type": "code",
   "execution_count": null,
   "id": "8c8892aa",
   "metadata": {},
   "outputs": [],
   "source": [
    "# --- Main Execution ---\n",
    "proc = start_ollama_server()\n",
    "time.sleep(5)  # Give it some time to initialize\n",
    "td_results = run_inference_with_emissions_td_detection(code_snippets, llm_config, sys_prompt_generator, task_prompt, exp_name, RESULT_DIR)\n",
    "save_td_labels(td_results, llm_config, DESIGN, RESULT_DIR)\n",
    "stop_ollama_server(proc)"
   ]
  },
  {
   "cell_type": "code",
   "execution_count": null,
   "id": "2cbb1eeb",
   "metadata": {},
   "outputs": [],
   "source": [
    "# Load ground truth\n",
    "gt = get_td_ground_truth(ground_truth_file_path)\n",
    "# Evaluate and save results\n",
    "results = evaluate_and_save_td(normalize_td_label, gt, td_results, exp_name)"
   ]
  },
  {
   "cell_type": "markdown",
   "id": "6034f137",
   "metadata": {},
   "source": [
    "Log Parsing"
   ]
  },
  {
   "cell_type": "code",
   "execution_count": null,
   "id": "23689bf9",
   "metadata": {},
   "outputs": [],
   "source": [
    "# --- Task-specific configuration for Log parsing ---\n",
    "task_prompt = config.TASK_PROMPT_LOG_PARSING\n",
    "sys_prompt_generator = config.SYS_MSG_SINGLE_LOG_PARSER_FEW_SHOT\n",
    "\n",
    "# --- Read Input Data ---\n",
    "logs = read_log_messages(input_file_path)"
   ]
  },
  {
   "cell_type": "code",
   "execution_count": null,
   "id": "de8e36dc",
   "metadata": {},
   "outputs": [],
   "source": [
    "# --- With CodeCarbon Emissions Tracking for Log Parsing Task---\n",
    "def run_inference_with_emissions_log_parsing(logs, llm_config, sys_prompt_log_parser, task_prompt, exp_name, result_dir):\n",
    "    parsed_templates = []\n",
    "    tracker = OfflineEmissionsTracker(project_name=exp_name, output_dir=result_dir, country_iso_code=\"CAN\", save_to_file=True)\n",
    "    tracker.start()\n",
    "    try:\n",
    "        log_parser = create_agent(\n",
    "            agent_type=\"assistant\",\n",
    "            name=\"log_parser_agent\",\n",
    "            llm_config=llm_config,\n",
    "            sys_prompt=sys_prompt_log_parser,\n",
    "            description=\"Analyze the log message in order to determine the corresponding template.\"\n",
    "        )\n",
    "        for i, log_message in enumerate(logs):\n",
    "            content = task_prompt + log_message\n",
    "            res = log_parser.generate_reply(messages=[{\"content\": content, \"role\": \"user\"}])\n",
    "            if res is not None and \"content\" in res:\n",
    "                parsed_templates.append(res[\"content\"].strip())\n",
    "                #print(f\"[Info] Processed log {i}: {res['content'].strip()}\")\n",
    "            else:\n",
    "                parsed_templates.append(\"NONE\")\n",
    "                print(f\"[Warning] Skipped log {i} — no response or invalid format.\")\n",
    "    finally:\n",
    "        emissions = tracker.stop()\n",
    "    print(f\"Emissions: {emissions} kg CO2\")\n",
    "    return parsed_templates\n"
   ]
  },
  {
   "cell_type": "code",
   "execution_count": null,
   "id": "e2bcb533",
   "metadata": {},
   "outputs": [],
   "source": [
    "# --- Main Execution ---\n",
    "proc = start_ollama_server()\n",
    "time.sleep(5)  # Give it some time to initialize\n",
    "parsed_templates = run_inference_with_emissions_log_parsing(logs, llm_config, sys_prompt_generator, task_prompt, exp_name, RESULT_DIR)\n",
    "save_templates(parsed_templates, llm_config, DESIGN, RESULT_DIR)\n",
    "stop_ollama_server(proc)"
   ]
  },
  {
   "cell_type": "code",
   "execution_count": null,
   "id": "d0c334bb",
   "metadata": {},
   "outputs": [],
   "source": [
    "results = evaluate_and_save_parsing(normalize_template, parsed_templates, ground_truth_file_path, exp_name)\n",
    "results_v1 = evaluate_and_save_parsing(normalize_template_v1, parsed_templates, ground_truth_file_path, exp_name)\n",
    "results_v2 = evaluate_and_save_parsing(normalize_template_v2, parsed_templates, ground_truth_file_path, exp_name)"
   ]
  },
  {
   "cell_type": "code",
   "execution_count": null,
   "id": "af7fdd8e",
   "metadata": {},
   "outputs": [],
   "source": [
    "#print(\"Results:\", results)"
   ]
  }
 ],
 "metadata": {
  "kernelspec": {
   "display_name": "iex",
   "language": "python",
   "name": "python3"
  },
  "language_info": {
   "codemirror_mode": {
    "name": "ipython",
    "version": 3
   },
   "file_extension": ".py",
   "mimetype": "text/x-python",
   "name": "python",
   "nbconvert_exporter": "python",
   "pygments_lexer": "ipython3",
   "version": "3.12.9"
  }
 },
 "nbformat": 4,
 "nbformat_minor": 5
}
