{
 "cells": [
  {
   "cell_type": "code",
   "execution_count": null,
   "id": "b8b00254",
   "metadata": {},
   "outputs": [],
   "source": [
    "import os\n",
    "import time\n",
    "import config\n",
    "from datetime import datetime\n",
    "from log_utils import (\n",
    "    read_log_messages, normalize_template, normalize_template_v1, normalize_template_v2,\n",
    "    save_templates, extract_last_template_from_history\n",
    ")\n",
    "from ollama_utils import start_ollama_server, stop_ollama_server\n",
    "from autogen import AssistantAgent\n",
    "from codecarbon import EmissionsTracker\n",
    "from evaluation import evaluate_and_save"
   ]
  },
  {
   "cell_type": "code",
   "execution_count": null,
   "id": "51d39c28",
   "metadata": {},
   "outputs": [],
   "source": [
    "# --- Configuration ---\n",
    "llm_config = config.LLM_CONFIG\n",
    "task = config.TASK_PROMPT\n",
    "sys_prompt_few_shot_log_parser = config.SYS_MSG_LOG_PARSER_FEW_SHOT\n",
    "sys_prompt_few_shot_critic = config.SYS_MSG_CRITIC_FEW_SHOT\n",
    "sys_prompt_zero_shot_log_parser = config.SYS_MSG_LOG_PARSER_ZERO_SHOT\n",
    "sys_prompt_zero_shot_critic = config.SYS_MSG_CRITIC_ZERO_SHOT\n",
    "\n",
    "LOG_DIR = config.LOG_DIR\n",
    "RESULT_DIR = config.RESULT_DIR\n",
    "os.makedirs(RESULT_DIR, exist_ok=True)\n",
    "\n",
    "# change this for different designs, i.e., \"DA-zero\"\n",
    "DESIGN = \"DA-few\"\n",
    "model = llm_config[\"config_list\"][0][\"model\"].replace(\":\", \"-\")\n",
    "timestamp = datetime.now().strftime(\"%Y%m%d-%H%M%S\")\n",
    "project_name = DESIGN.capitalize()\n",
    "exp_name = f\"{project_name}_{model}_{timestamp}\"\n",
    "\n",
    "input_log_file = \"HDFS_200_sampled.log\"\n",
    "log_path = os.path.join(LOG_DIR, input_log_file)\n",
    "ground_truth_file_path = os.path.join(LOG_DIR, \"HDFS_200_sampled_log_structured.csv\")\n"
   ]
  },
  {
   "cell_type": "code",
   "execution_count": null,
   "id": "56ff880e",
   "metadata": {},
   "outputs": [],
   "source": [
    "# --- Agent Creation ---\n",
    "def create_log_parser_agent(llm_config, sys_prompt):\n",
    "    return AssistantAgent(\n",
    "        name=\"log_parser_agent\",\n",
    "        system_message=sys_prompt,\n",
    "        description=\"Analyze the log message in order to determine the corresponding template.\",\n",
    "        llm_config=llm_config,\n",
    "        human_input_mode=\"NEVER\",\n",
    "    )\n",
    "\n",
    "def create_critic_agent(llm_config, sys_prompt):\n",
    "    return AssistantAgent(\n",
    "        name=\"critic_agent\",\n",
    "        system_message=sys_prompt,\n",
    "        llm_config=llm_config,\n",
    "        human_input_mode=\"NEVER\",\n",
    "    )"
   ]
  },
  {
   "cell_type": "code",
   "execution_count": null,
   "id": "c010859a",
   "metadata": {},
   "outputs": [],
   "source": [
    "# --- Log Reading ---\n",
    "logs = read_log_messages(log_path)"
   ]
  },
  {
   "cell_type": "code",
   "execution_count": null,
   "id": "fa25f829",
   "metadata": {},
   "outputs": [],
   "source": [
    "# --- Inference with Two Agents and Emissions Tracking ---\n",
    "def run_two_agent_inference(logs, llm_config, sys_prompt_log_parser, sys_prompt_critic, task, exp_name, result_dir):\n",
    "    last_templates = []\n",
    "    tracker = EmissionsTracker(project_name=exp_name, output_dir=result_dir, save_to_file=True)\n",
    "    tracker.start()\n",
    "    try:\n",
    "        log_parser = create_log_parser_agent(llm_config, sys_prompt_log_parser)\n",
    "        critic = create_critic_agent(llm_config, sys_prompt_critic)\n",
    "        for i, log_message in enumerate(logs):\n",
    "            res = critic.initiate_chat(\n",
    "                recipient=log_parser,\n",
    "                message=task + log_message,\n",
    "                max_turns=2,\n",
    "                summary_method=\"last_msg\"\n",
    "            )\n",
    "            history = res.chat_history\n",
    "            last_template = extract_last_template_from_history(history)\n",
    "            print(f\"\\n--- Processing log {i} ---\")\n",
    "            print(f\"Last template: {last_template}\")\n",
    "            if last_template:\n",
    "                last_templates.append(last_template)\n",
    "            else:\n",
    "                last_templates.append(\"NONE\")\n",
    "                print(f\"No valid template extracted from log_parser_agent for log {i}\")\n",
    "    finally:\n",
    "        emissions = tracker.stop()\n",
    "    print(f\"Emissions: {emissions} kg CO2\")\n",
    "    return last_templates\n"
   ]
  },
  {
   "cell_type": "code",
   "execution_count": null,
   "id": "226ff8dd",
   "metadata": {},
   "outputs": [],
   "source": [
    "# --- Ollama Server Management ---\n",
    "#proc = start_ollama_server()\n",
    "time.sleep(5)  # Give it some time to initialize\n",
    "\n",
    "last_templates = run_two_agent_inference(logs, llm_config, sys_prompt_few_shot_log_parser, sys_prompt_few_shot_critic, task, exp_name, RESULT_DIR)\n",
    "save_templates(last_templates, llm_config, DESIGN, RESULT_DIR)\n",
    "\n",
    "#stop_ollama_server(proc)"
   ]
  },
  {
   "cell_type": "code",
   "execution_count": null,
   "id": "2678200d",
   "metadata": {},
   "outputs": [],
   "source": [
    "# --- Evaluation ---\n",
    "results = evaluate_and_save(normalize_template, last_templates, ground_truth_file_path, exp_name)\n",
    "results_v1 = evaluate_and_save(normalize_template_v1, last_templates, ground_truth_file_path, exp_name)\n",
    "results_v2 = evaluate_and_save(normalize_template_v2, last_templates, ground_truth_file_path, exp_name)\n"
   ]
  },
  {
   "cell_type": "code",
   "execution_count": null,
   "id": "192d6851",
   "metadata": {},
   "outputs": [],
   "source": [
    "#print(\"Results:\", results)"
   ]
  }
 ],
 "metadata": {
  "kernelspec": {
   "display_name": "iex",
   "language": "python",
   "name": "python3"
  },
  "language_info": {
   "codemirror_mode": {
    "name": "ipython",
    "version": 3
   },
   "file_extension": ".py",
   "mimetype": "text/x-python",
   "name": "python",
   "nbconvert_exporter": "python",
   "pygments_lexer": "ipython3",
   "version": "3.12.9"
  }
 },
 "nbformat": 4,
 "nbformat_minor": 5
}
