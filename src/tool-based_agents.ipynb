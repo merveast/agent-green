{
 "cells": [
  {
   "cell_type": "code",
   "execution_count": null,
   "id": "43862dba",
   "metadata": {},
   "outputs": [],
   "source": [
    "import os\n",
    "import json\n",
    "import time\n",
    "import config\n",
    "from datetime import datetime\n",
    "from log_utils import (\n",
    "    read_log_messages, normalize_template, normalize_template_v1, normalize_template_v2, save_templates, extract_event_templates\n",
    ")\n",
    "from ollama_utils import start_ollama_server, stop_ollama_server\n",
    "from autogen import AssistantAgent, ConversableAgent, register_function\n",
    "from evaluation import evaluate_and_save\n",
    "from drain_utils import parse_logs\n",
    "from autogen.coding import LocalCommandLineCodeExecutor\n",
    "from pathlib import Path\n",
    "from codecarbon import EmissionsTracker"
   ]
  },
  {
   "cell_type": "code",
   "execution_count": null,
   "id": "0923861c",
   "metadata": {},
   "outputs": [],
   "source": [
    "# --- Configuration ---\n",
    "llm_config = config.LLM_CONFIG\n",
    "task = config.TASK_PROMPT\n",
    "LOG_DIR = config.LOG_DIR\n",
    "RESULT_DIR = config.RESULT_DIR\n",
    "os.makedirs(RESULT_DIR, exist_ok=True)\n",
    "\n",
    "DESIGN = \"TA-CG\"\n",
    "model = llm_config[\"config_list\"][0][\"model\"].replace(\":\", \"-\")\n",
    "timestamp = datetime.now().strftime(\"%Y%m%d-%H%M%S\")\n",
    "project_name = DESIGN.capitalize()\n",
    "exp_name = f\"{project_name}_{model}_{timestamp}\"\n",
    "\n",
    "input_log_file = \"HDFS_200_sampled_CG.log\"\n",
    "log_path = os.path.join(LOG_DIR, input_log_file)"
   ]
  },
  {
   "cell_type": "code",
   "execution_count": null,
   "id": "56ff880e",
   "metadata": {},
   "outputs": [],
   "source": [
    "# --- Agent Creation ---\n",
    "def create_code_executor_agent():\n",
    "    executor = LocalCommandLineCodeExecutor(\n",
    "        timeout=10,\n",
    "        work_dir=Path(config.WORK_DIR)\n",
    "    )\n",
    "    return ConversableAgent(\n",
    "        name=\"code_executor\",\n",
    "        description=\"I execute the code provided.\",\n",
    "        code_execution_config={\"executor\": executor},\n",
    "        human_input_mode=\"NEVER\",\n",
    "        llm_config=False,\n",
    "    )\n",
    "\n",
    "def create_tool_caller_agent(llm_config):\n",
    "    return AssistantAgent(\n",
    "        name=\"tool_caller\",\n",
    "        system_message=\"You are a helpful assistant. You can call tools to parse logs. Return 'TERMINATE' when the task is done.\",\n",
    "        llm_config=llm_config,\n",
    "        human_input_mode=\"NEVER\",\n",
    "    )"
   ]
  },
  {
   "cell_type": "code",
   "execution_count": null,
   "id": "a62fbaa6",
   "metadata": {},
   "outputs": [],
   "source": [
    "# --- Log Reading ---\n",
    "logs = read_log_messages(log_path)"
   ]
  },
  {
   "cell_type": "code",
   "execution_count": null,
   "id": "706b829b",
   "metadata": {},
   "outputs": [],
   "source": [
    "# Start Ollama server\n",
    "proc = start_ollama_server()\n",
    "time.sleep(5)  # Give it some time to initialize"
   ]
  },
  {
   "cell_type": "code",
   "execution_count": null,
   "id": "3ba5ac40",
   "metadata": {},
   "outputs": [],
   "source": [
    "# --- With CodeCarbon ---\n",
    "tracker = EmissionsTracker(project_name=exp_name, output_dir=RESULT_DIR, save_to_file=True)\n",
    "tracker.start()\n",
    "try:\n",
    "    # Create tool caller agent\n",
    "    tool_caller = create_tool_caller_agent(llm_config)\n",
    "    code_executor = create_code_executor_agent()\n",
    "\n",
    "    register_function(\n",
    "        parse_logs,\n",
    "        caller=tool_caller,\n",
    "        executor=code_executor,\n",
    "        description=\"Parse the log file with Drain algorithm.\",\n",
    "    )\n",
    "\n",
    "    arguments = {\n",
    "        \"input_dir\": \"/home/user/Desktop/AgentGreen/logs\",\n",
    "        \"log_file\": \"HDFS_200_sampled_CG.log\",\n",
    "        \"log_format\": r\"<Date> <Time> <Pid> <Level> <Component>: <Content>\",\n",
    "        \"regex\": [r\"blk_-?\\d+\", r\"(\\d+\\.){3}\\d+(:\\d+)?\"],\n",
    "        \"output_dir\": \"/home/user/Desktop/AgentGreen/results/Drain_result/\",\n",
    "        \"depth\": 4,\n",
    "        \"similarity_threshold\": 0.5\n",
    "    }\n",
    "\n",
    "    response = code_executor.initiate_chat(\n",
    "        recipient=code_executor,\n",
    "        message={\n",
    "            \"function_call\": {\n",
    "                \"name\": \"parse_logs\",\n",
    "                \"arguments\": json.dumps(arguments) \n",
    "            }\n",
    "        },\n",
    "        max_turns=1,\n",
    "        summary_method=\"last_msg\"\n",
    "    )\n",
    "    print(response.summary)\n",
    "    \n",
    "finally:\n",
    "    emissions = tracker.stop()\n",
    "    print(f\"\\n🌱 Emissions: {emissions} kg CO2\")\n",
    "    "
   ]
  },
  {
   "cell_type": "code",
   "execution_count": null,
   "id": "e9c34f76",
   "metadata": {},
   "outputs": [],
   "source": [
    "# Stop server\n",
    "stop_ollama_server(proc)"
   ]
  },
  {
   "cell_type": "code",
   "execution_count": null,
   "id": "958c9379",
   "metadata": {},
   "outputs": [],
   "source": [
    "# --- Evaluation ---\n",
    "drain_structured_csv = os.path.join(RESULT_DIR, \"Drain_result\", f\"{input_log_file}_structured.csv\")\n",
    "parsed_templates = extract_event_templates(drain_structured_csv)\n",
    "save_templates(parsed_templates, llm_config, DESIGN, RESULT_DIR)"
   ]
  },
  {
   "cell_type": "code",
   "execution_count": null,
   "id": "8cb3b849",
   "metadata": {},
   "outputs": [],
   "source": [
    "ground_truth_file = os.path.join(LOG_DIR, \"HDFS_200_sampled.log_structured.csv\")\n",
    "results = evaluate_and_save(normalize_template, parsed_templates, ground_truth_file, DESIGN, RESULT_DIR)\n",
    "results_v1 = evaluate_and_save(normalize_template_v1, parsed_templates, ground_truth_file, DESIGN, RESULT_DIR)\n",
    "results_v2 = evaluate_and_save(normalize_template_v2, parsed_templates, ground_truth_file, DESIGN, RESULT_DIR)"
   ]
  }
 ],
 "metadata": {
  "kernelspec": {
   "display_name": "iex",
   "language": "python",
   "name": "python3"
  },
  "language_info": {
   "codemirror_mode": {
    "name": "ipython",
    "version": 3
   },
   "file_extension": ".py",
   "mimetype": "text/x-python",
   "name": "python",
   "nbconvert_exporter": "python",
   "pygments_lexer": "ipython3",
   "version": "3.12.9"
  }
 },
 "nbformat": 4,
 "nbformat_minor": 5
}
